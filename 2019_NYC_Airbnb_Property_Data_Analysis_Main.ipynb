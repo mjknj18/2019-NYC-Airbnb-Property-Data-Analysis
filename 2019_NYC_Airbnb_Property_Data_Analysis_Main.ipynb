{
 "cells": [
  {
   "cell_type": "markdown",
   "metadata": {},
   "source": [
    "# Project Proposal"
   ]
  },
  {
   "cell_type": "markdown",
   "metadata": {},
   "source": [
    "TO BE UPDATED LATER"
   ]
  },
  {
   "cell_type": "markdown",
   "metadata": {},
   "source": [
    "# Project Code"
   ]
  },
  {
   "cell_type": "markdown",
   "metadata": {},
   "source": [
    "## Data Import & Cleaning"
   ]
  },
  {
   "cell_type": "code",
   "execution_count": null,
   "metadata": {},
   "outputs": [],
   "source": [
    "#Import Raw Data from CSV File"
   ]
  },
  {
   "cell_type": "code",
   "execution_count": 2,
   "metadata": {},
   "outputs": [],
   "source": [
    "#Clean Raw Data by Dropping Rows with Missing Information"
   ]
  },
  {
   "cell_type": "code",
   "execution_count": null,
   "metadata": {},
   "outputs": [],
   "source": [
    "#Clean Raw Data by Dropping Rows with Incorrect Information"
   ]
  },
  {
   "cell_type": "markdown",
   "metadata": {},
   "source": [
    "## Data Processing & Analysis"
   ]
  },
  {
   "cell_type": "markdown",
   "metadata": {},
   "source": [
    "### NYC Complete Data"
   ]
  },
  {
   "cell_type": "code",
   "execution_count": 5,
   "metadata": {},
   "outputs": [],
   "source": [
    "#CURRENT IDEAS FOR PLOTS (THESE ARE IN NO PARTICULAR ORDER)\n",
    "#\n",
    "#How many properties of each type are listed?\n",
    "#How many unique hosts are present for each type of property?\n",
    "#For the entire home/apt category, which properties are single-family buildings versus multi-family buildings."
   ]
  },
  {
   "cell_type": "markdown",
   "metadata": {},
   "source": [
    "### NYC Borough Data"
   ]
  },
  {
   "cell_type": "code",
   "execution_count": null,
   "metadata": {},
   "outputs": [],
   "source": [
    "#CURRENT IDEAS FOR PLOTS (THESE ARE IN NO PARTICULAR ORDER)\n",
    "#\n",
    "#How many properties of each type are listed within each borough?\n",
    "#Is there a correlation between property price and minimum number of nights within each borough?\n",
    "#What is the percentage of property types available within each borough?\n",
    "#What is the average number of days available for each type of property in each borough?\n",
    "#What is the average price for each type of property in each borough?\n",
    "#What is the average number of minimum nights for each type of property in each borough?"
   ]
  },
  {
   "cell_type": "markdown",
   "metadata": {},
   "source": [
    "### NYC Neighborhood Data"
   ]
  },
  {
   "cell_type": "code",
   "execution_count": 6,
   "metadata": {},
   "outputs": [],
   "source": [
    "#CURRENT IDEAS FOR PLOTS (THESE ARE IN NO PARTICULAR ORDER)\n",
    "#\n",
    "#In each borough, what are the 5 neighborhoods with the most reviews?\n",
    "#In each borough, what are the 5 neighborhoods with the highest percentage each property type?\n",
    "#In each borough, what are the 5 neighborhoods with the highest average price for each property type?\n",
    "#In each borough, what are the 5 neighborhoods with the lowest average price for each property type?\n",
    "#In each borough, what are the 5 neighborhoods with the lowest average number of minimum nights?"
   ]
  },
  {
   "cell_type": "markdown",
   "metadata": {},
   "source": [
    "# Project Observations & Conclusions"
   ]
  },
  {
   "cell_type": "markdown",
   "metadata": {},
   "source": [
    "TO BE UPDATED LATER"
   ]
  },
  {
   "cell_type": "code",
   "execution_count": null,
   "metadata": {},
   "outputs": [],
   "source": []
  }
 ],
 "metadata": {
  "kernelspec": {
   "display_name": "Python 3",
   "language": "python",
   "name": "python3"
  },
  "language_info": {
   "codemirror_mode": {
    "name": "ipython",
    "version": 3
   },
   "file_extension": ".py",
   "mimetype": "text/x-python",
   "name": "python",
   "nbconvert_exporter": "python",
   "pygments_lexer": "ipython3",
   "version": "3.7.3"
  }
 },
 "nbformat": 4,
 "nbformat_minor": 2
}
